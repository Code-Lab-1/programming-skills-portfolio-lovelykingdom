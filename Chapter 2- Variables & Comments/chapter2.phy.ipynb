{
 "cells": [
  {
   "cell_type": "code",
   "execution_count": 1,
   "metadata": {},
   "outputs": [
    {
     "name": "stdout",
     "output_type": "stream",
     "text": [
      "I love learning python.\n",
      "Its really satisfying!\n"
     ]
    }
   ],
   "source": [
    "msg = 'I love learning python.'\n",
    "print(msg)\n",
    "msg = 'Its really satisfying!'\n",
    "print(msg)"
   ]
  },
  {
   "cell_type": "code",
   "execution_count": 4,
   "metadata": {},
   "outputs": [
    {
     "name": "stdout",
     "output_type": "stream",
     "text": [
      "Albert Einstein once said, “A person who never made a mistake \n",
      "never tried anything new.\n"
     ]
    }
   ],
   "source": [
    "print('Albert Einstein once said, “A person who never made a mistake ')\n",
    "print('never tried anything new.')"
   ]
  },
  {
   "cell_type": "code",
   "execution_count": 5,
   "metadata": {},
   "outputs": [
    {
     "name": "stdout",
     "output_type": "stream",
     "text": [
      "Alan joshua\n",
      "whitespace stripping:\n",
      "\tAlan joshua\n"
     ]
    }
   ],
   "source": [
    "full_name2 = 'Alan joshua'\n",
    "print(full_name2)\n",
    "print('whitespace stripping:\\n\\t'+full_name2.rstrip())"
   ]
  },
  {
   "cell_type": "code",
   "execution_count": 6,
   "metadata": {},
   "outputs": [
    {
     "name": "stdout",
     "output_type": "stream",
     "text": [
      "my favorite number is79.\n"
     ]
    }
   ],
   "source": [
    "fav_number = 79\n",
    "msg = \"my favorite number is\"+str(fav_number)+\".\"\n",
    "print(msg)"
   ]
  }
 ],
 "metadata": {
  "kernelspec": {
   "display_name": "Python 3.10.8 64-bit",
   "language": "python",
   "name": "python3"
  },
  "language_info": {
   "codemirror_mode": {
    "name": "ipython",
    "version": 3
   },
   "file_extension": ".py",
   "mimetype": "text/x-python",
   "name": "python",
   "nbconvert_exporter": "python",
   "pygments_lexer": "ipython3",
   "version": "3.10.8"
  },
  "orig_nbformat": 4,
  "vscode": {
   "interpreter": {
    "hash": "e7cddc84a8ffd37f2947e7673dc18d6b68da2d8ce65ce672862e32197c549e04"
   }
  }
 },
 "nbformat": 4,
 "nbformat_minor": 2
}
